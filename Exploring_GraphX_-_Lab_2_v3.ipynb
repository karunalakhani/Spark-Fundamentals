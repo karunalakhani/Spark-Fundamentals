{
 "cells": [
  {
   "cell_type": "markdown",
   "metadata": {},
   "source": [
    "<div class=\"alert alert-block alert-info\" style=\"margin-top: 20px\">\n",
    "    <a href=\"https://cocl.us/exploring_spark_graphX\">\n",
    "         <img src=\"https://s3-api.us-geo.objectstorage.softlayer.net/cf-courses-data/CognitiveClass/BD0223EN/Ad/TopAd.png\" width=\"750\" align=\"center\">\n",
    "    </a>\n",
    "</div>"
   ]
  },
  {
   "cell_type": "markdown",
   "metadata": {},
   "source": [
    "# <center>Exploring GraphX</center>\n",
    "## <center>Visualizing GraphX and Exploring Graph Operators</center>"
   ]
  },
  {
   "cell_type": "markdown",
   "metadata": {},
   "source": [
    "<img src=\"http://spark.apache.org/docs/latest/img/graphx_logo.png\" width=300 />"
   ]
  },
  {
   "cell_type": "markdown",
   "metadata": {},
   "source": [
    "## Welcome to the second lab in the course, Exploring GraphX.\n",
    "\n",
    "### GraphX is Apache Spark's API for graph and graph-parallel computations.\n",
    "\n",
    "In the last exercise, you looked at an introduction to GraphX, specifically how to create the components that make up a Graph. Then fully create a Graph given the information of the vertices and edges. In this lab, you will get more practice constructing a GraphX, extracting information using Graph Operators, and look at visualization of the Graph."
   ]
  },
  {
   "cell_type": "markdown",
   "metadata": {},
   "source": [
    "So in the last exercise, you looked at creating our simple recreation of \"facebook\". You were given most of the code, so let's go ahead and recreate the same graph with a little less help and a bit more intitution!"
   ]
  },
  {
   "cell_type": "markdown",
   "metadata": {},
   "source": [
    "First we will import the following libraries:\n",
    "\n",
    "- org.apache.spark._ \n",
    "- org.apache.spark.graphx._\n",
    "- org.apache.spark.rdd.RDD "
   ]
  },
  {
   "cell_type": "code",
   "execution_count": 1,
   "metadata": {
    "collapsed": true
   },
   "outputs": [],
   "source": [
    "// Type your code here\n",
    "import org.apache.spark._\n",
    "import org.apache.spark.graphx._\n",
    "import org.apache.spark.rdd.RDD"
   ]
  },
  {
   "cell_type": "markdown",
   "metadata": {},
   "source": [
    "In our \"facebook\" graph we created we had the following People:\n",
    "\n",
    "- Billy Bill -> VertexId = 1\n",
    "- Jacob Johnson -> VertexId = 2\n",
    "- Andrew Smith -> VertexId = 3\n",
    "\n",
    "and 2 Pages:\n",
    "\n",
    "- Iron Man Fan Page -> VertexId = 4\n",
    "- Captain America Fan Page -> VertexId = 5\n",
    "\n",
    "And we are going to create the vertices in one step! This will be tied to the variable called vertexRDD\n",
    "\n"
   ]
  },
  {
   "cell_type": "code",
   "execution_count": 4,
   "metadata": {
    "collapsed": true
   },
   "outputs": [
    {
     "data": {
      "text/plain": [
       "vertexRDD = ParallelCollectionRDD[1] at parallelize at <console>:35\n"
      ]
     },
     "metadata": {},
     "output_type": "display_data",
     "source": "user"
    },
    {
     "data": {
      "text/plain": [
       "ParallelCollectionRDD[1] at parallelize at <console>:35"
      ]
     },
     "execution_count": 4,
     "metadata": {},
     "output_type": "execute_result"
    }
   ],
   "source": [
    "// Type your code here\n",
    "val vertexRDD: RDD[(Long, (String, String))] = sc.parallelize(Array((1L, (\"Billy Bill\", \"Person\")), \n",
    "                                                                    (2L, (\"Jacob Johnson\", \"Person\")), \n",
    "                                                                    (3L, (\"Andrew Smith\", \"Person\")),\n",
    "                                                                    (4L, (\"Iron Man Fan Page\", \"Page\")), \n",
    "                                                                    (5L, (\"Captain America Fan Page\", \"Page\"))))"
   ]
  },
  {
   "cell_type": "markdown",
   "metadata": {},
   "source": [
    "Awesome! Now let's create the same relationships in one step too:\n",
    "\n",
    "- Billy is Friends with Jacob\n",
    "- Billy is Friends with Andrew\n",
    "- Jacob is a Follower of the Iron Man Fan Page\n",
    "- Jacob is a Follower of the the Captain America Fan Page\n",
    "- Andrew is a Follower of the the Captain America Fan Page\n",
    "\n",
    "This edge will be called edgeRDD.\n",
    "\n",
    "Hint: The Type is RDD[Edge[String]]"
   ]
  },
  {
   "cell_type": "code",
   "execution_count": 5,
   "metadata": {
    "collapsed": false
   },
   "outputs": [
    {
     "data": {
      "text/plain": [
       "edgeRDD = ParallelCollectionRDD[2] at parallelize at <console>:36\n"
      ]
     },
     "metadata": {},
     "output_type": "display_data",
     "source": "user"
    },
    {
     "data": {
      "text/plain": [
       "ParallelCollectionRDD[2] at parallelize at <console>:36"
      ]
     },
     "execution_count": 5,
     "metadata": {},
     "output_type": "execute_result"
    }
   ],
   "source": [
    "// Type your code here\n",
    "\n",
    "val edgeRDD: RDD[Edge[String]] = sc.parallelize(Array(Edge(1L, 2L, \"Friends\"), Edge(1L, 3L, \"Friends\"), \n",
    "                                                      Edge(2L, 4L, \"Follower\"), Edge(2L, 5L, \"Follower\"), \n",
    "                                                      Edge(3L, 5L, \"Follower\")))"
   ]
  },
  {
   "cell_type": "markdown",
   "metadata": {},
   "source": [
    "Now let's create the a variable called <code>defaultvertex</code> which will be the \"fallback\" for any edges that cannot connect to a vertex. It is only a tuple which contains \"Self\" and \"Missing\""
   ]
  },
  {
   "cell_type": "code",
   "execution_count": 6,
   "metadata": {
    "collapsed": true
   },
   "outputs": [
    {
     "data": {
      "text/plain": [
       "defaultvertex = (Self,Missing)\n"
      ]
     },
     "metadata": {},
     "output_type": "display_data",
     "source": "user"
    },
    {
     "data": {
      "text/plain": [
       "(Self,Missing)"
      ]
     },
     "execution_count": 6,
     "metadata": {},
     "output_type": "execute_result"
    }
   ],
   "source": [
    "// Type your code here\n",
    "var defaultvertex = (\"Self\", \"Missing\")"
   ]
  },
  {
   "cell_type": "markdown",
   "metadata": {},
   "source": [
    "Alright, now let's go ahead and construct the Graph! We will name it facebook again!"
   ]
  },
  {
   "cell_type": "code",
   "execution_count": 7,
   "metadata": {
    "collapsed": false
   },
   "outputs": [
    {
     "data": {
      "text/plain": [
       "facebook = org.apache.spark.graphx.impl.GraphImpl@60ca47a\n"
      ]
     },
     "metadata": {},
     "output_type": "display_data",
     "source": "user"
    },
    {
     "data": {
      "text/plain": [
       "org.apache.spark.graphx.impl.GraphImpl@60ca47a"
      ]
     },
     "execution_count": 7,
     "metadata": {},
     "output_type": "execute_result"
    }
   ],
   "source": [
    "// Type your code here\n",
    "var facebook = Graph(vertexRDD, edgeRDD, defaultvertex)"
   ]
  },
  {
   "cell_type": "markdown",
   "metadata": {},
   "source": [
    "Perfect! Here's a reminder of the visualized Graph:\n",
    "\n",
    "<img src = \"http://i.imgur.com/rhkiopM.png\">"
   ]
  },
  {
   "cell_type": "markdown",
   "metadata": {},
   "source": [
    "Alright so now we will take a look at the few of the Graph Operators! These Graph Operators are called by using the Graph \"facebook\" variable we created. You use them by calling them on the Graph variable or \"facebook\" in our case. Let's try to extract how many vertices there are in this graph by using <code>numVertices</code> function."
   ]
  },
  {
   "cell_type": "code",
   "execution_count": 8,
   "metadata": {
    "collapsed": false
   },
   "outputs": [
    {
     "data": {
      "text/plain": [
       "5"
      ]
     },
     "execution_count": 8,
     "metadata": {},
     "output_type": "execute_result"
    }
   ],
   "source": [
    "// Type your code here\n",
    "facebook.numVertices"
   ]
  },
  {
   "cell_type": "markdown",
   "metadata": {},
   "source": [
    "Sweet! Now let's find out the number of edges using <code>numEdges</code> function."
   ]
  },
  {
   "cell_type": "code",
   "execution_count": 9,
   "metadata": {
    "collapsed": false
   },
   "outputs": [
    {
     "data": {
      "text/plain": [
       "5"
      ]
     },
     "execution_count": 9,
     "metadata": {},
     "output_type": "execute_result"
    }
   ],
   "source": [
    "// Type your code here\n",
    "facebook.numEdges"
   ]
  },
  {
   "cell_type": "markdown",
   "metadata": {},
   "source": [
    "Ironically, they are both the same. So make sure you didn't just use the same function both times! Haha.\n",
    "\n",
    "Now the next Operator we will look at involve degrees. In this case we are talking about degrees as the number of edges a vertex touches! The Edges in a multi-directional graph have a direction. As you can see, sometimes it can be mutual such as:\n",
    "\n",
    "-> Billy is a Friend of Andrew. \n",
    "\n",
    "-> Andrew is a Friend of Billy.\n",
    "\n",
    "However there are cases where the edge or \"relationship\" is not mutual. This is such as:\n",
    "\n",
    "-> Jacob is a Follower of the Captain America Fan Page.\n",
    "\n",
    "-> Captain America Fan Page is a Follower of Jacob.\n",
    "\n",
    "So, if we are looking at a specific vertex, we can determine the edges that point \"out\" with the function <code>outDegrees</code>. However, the question is... How do we find a specific vertex? We use the filter function like we did in the last exercise!\n",
    "\n",
    "We can use the filter function on the <code>outDegrees</code> function of facebook and select the case where the id is the number or numbers we want.\n",
    "\n",
    "Let's find Billy's outDegrees information by filtering it with a id of 1 and using the collect function afterwards. Let's save it as <code>Billy_outDegree</code>.\n",
    "\n",
    "Note: The case we will need is case(id, outdegree), as the id of the person is the first parameter and the outdegree number is the second parameter."
   ]
  },
  {
   "cell_type": "code",
   "execution_count": 10,
   "metadata": {
    "collapsed": false
   },
   "outputs": [
    {
     "data": {
      "text/plain": [
       "Billy_outDegree = Array((1,2))\n"
      ]
     },
     "metadata": {},
     "output_type": "display_data",
     "source": "user"
    },
    {
     "data": {
      "text/plain": [
       "Array((1,2))"
      ]
     },
     "execution_count": 10,
     "metadata": {},
     "output_type": "execute_result"
    }
   ],
   "source": [
    "// Type your code here\n",
    "var Billy_outDegree = facebook.outDegrees.filter{ case(id, outdegree) => id == 1}.collect"
   ]
  },
  {
   "cell_type": "markdown",
   "metadata": {},
   "source": [
    "Awesome! Now let's go ahead print out Billy_outDegree. However, we will need to index it using () brackets instead of [] brackets. The index should be 0."
   ]
  },
  {
   "cell_type": "code",
   "execution_count": 11,
   "metadata": {
    "collapsed": false,
    "scrolled": true
   },
   "outputs": [
    {
     "name": "stdout",
     "output_type": "stream",
     "text": [
      "(1,2)"
     ]
    }
   ],
   "source": [
    "// Type your code here\n",
    "print(Billy_outDegree(0))"
   ]
  },
  {
   "cell_type": "markdown",
   "metadata": {},
   "source": [
    "So the result should contain the id (first parameter) and the outDegree of that parameter in the second index. Therefore the outDegree of Billy is 2.\n",
    "\n",
    "Now let's do the same for Billy but lets find it's inDegree. We use <code>Billy_inDegree</code> as the variable. Then print the first index of <code>Billy_inDegree</code> like before"
   ]
  },
  {
   "cell_type": "code",
   "execution_count": 12,
   "metadata": {
    "collapsed": true
   },
   "outputs": [
    {
     "data": {
      "text/plain": [
       "Name: java.lang.ArrayIndexOutOfBoundsException\n",
       "Message: 0\n",
       "StackTrace: "
      ]
     },
     "execution_count": 12,
     "metadata": {},
     "output_type": "execute_result"
    }
   ],
   "source": [
    "// Type your code here\n",
    "var Billy_inDegree = facebook.inDegrees.filter{ case(id, outdegree) => id == 1}.collect\n",
    "print(Billy_inDegree(0))"
   ]
  },
  {
   "cell_type": "markdown",
   "metadata": {},
   "source": [
    "You got an error when you tried to print the <code>Billy_inDegree</code> didn't you? That's to be expected because since there wasn't an inDegree value for Billy's vertex, there wasn't an anything in <code>Billy_inDegree</code> variable.\n",
    "\n",
    "Now let's take a look at the degrees operator. We will do something different than before, and go ahead and use a for loop to cycle through the total degree of each vertex (inDegree + OutDegree)"
   ]
  },
  {
   "cell_type": "code",
   "execution_count": 13,
   "metadata": {
    "collapsed": false,
    "scrolled": true
   },
   "outputs": [
    {
     "name": "stdout",
     "output_type": "stream",
     "text": [
      "(1,2)\n",
      "(2,3)\n",
      "(3,2)\n",
      "(4,1)\n",
      "(5,2)\n"
     ]
    },
    {
     "data": {
      "text/plain": [
       "lastException: Throwable = null\n"
      ]
     },
     "metadata": {},
     "output_type": "display_data",
     "source": "user"
    }
   ],
   "source": [
    "// Type your code here\n",
    "for (degree <- facebook.degrees.collect) \n",
    "{\n",
    "    println(degree)\n",
    "}"
   ]
  },
  {
   "cell_type": "markdown",
   "metadata": {},
   "source": [
    "So the list that shows up is the same format as before, the first element is the vertex id and the second element is the number of degrees corresponding to that element."
   ]
  },
  {
   "cell_type": "markdown",
   "metadata": {},
   "source": [
    "Now the next Graph Operators we are looking at is .vertices, .edges, and .triplets. As you have used, and seem them before in the last exercise. They are Graph Operators and it is important to know how to use each of their cases:\n",
    "\n",
    "- .vertices -> Uses format of the defined Vertices of the graph. <br>\n",
    "Ex. We defined our Vertices as (Long, (String, String)), therefore when you call a case on this, you must define variables for each such as (id, (name, user_type)).\n",
    "\n",
    "- .edges -> Uses format of the defined Edges of the graph. <br>\n",
    "Ex. We defined our Edges as Edge[String], therefore when you call a case on this, you can just define one variable such as (relation). However, this variable will have attributes such as .srcId (Source Id), .dstId (Destination Id), and .attr (Attribute).\n",
    "\n",
    "- .triplets -> Uses the combined format of the defined Vertices and Edges. <br>\n",
    "Ex. Follow the above example, when we call a case on this, you define one variable such as (triplet). And this variable will have attributes of both Vertices and Edges such as .srcAttr (Source Attribute), .dstAttr (Destination Attribute) from Vertices, and .srcId (Source Id), .dstId (Destination Id), and .attr (Attribute) from Edges."
   ]
  },
  {
   "cell_type": "markdown",
   "metadata": {},
   "source": [
    "So since you've dealt with .vertices and edges, we do a quick example with each then start looking at how to visualize the graph with .triplets since it a combination of .vertices and .edges.\n",
    "\n",
    "Unfortunately, GraphX does not have any build-in visualization, so it's important to know how to create views. Let's go ahead and trying printing out all of the vertices.\n",
    "\n",
    "Hint: Use a for loop and the collect function on .vertices"
   ]
  },
  {
   "cell_type": "code",
   "execution_count": 14,
   "metadata": {
    "collapsed": false
   },
   "outputs": [
    {
     "name": "stdout",
     "output_type": "stream",
     "text": [
      "(1,(Billy Bill,Person))\n",
      "(2,(Jacob Johnson,Person))\n",
      "(3,(Andrew Smith,Person))\n",
      "(4,(Iron Man Fan Page,Page))\n",
      "(5,(Captain America Fan Page,Page))\n"
     ]
    }
   ],
   "source": [
    "// Type your code here\n",
    "for (vertex <- facebook.vertices.collect) {\n",
    "    println(vertex)\n",
    "}"
   ]
  },
  {
   "cell_type": "markdown",
   "metadata": {},
   "source": [
    "Awesome! Now let's do the same with edges just so we have an idea of all the vertices and edges."
   ]
  },
  {
   "cell_type": "code",
   "execution_count": 15,
   "metadata": {
    "collapsed": false
   },
   "outputs": [
    {
     "name": "stdout",
     "output_type": "stream",
     "text": [
      "Edge(1,2,Friends)\n",
      "Edge(1,3,Friends)\n",
      "Edge(2,4,Follower)\n",
      "Edge(2,5,Follower)\n",
      "Edge(3,5,Follower)\n"
     ]
    }
   ],
   "source": [
    "// Type your code here\n",
    "for (edge <- facebook.edges.collect) {\n",
    "    println(edge)\n",
    "}"
   ]
  },
  {
   "cell_type": "markdown",
   "metadata": {},
   "source": [
    "Alright, now let's use triplets to create a view of the graph. Just like in last two examples, we will use the collect function on .triplets, however we will denote the Source Attribute (.srcAttr), the edge attribute (.attr), and the Destination Attribute (.dstAttr) all in the same <code>println</code> statement to denote each relationship.\n",
    "\n",
    "Hint: Make sure to use the index on the Source and Destination Attribute!"
   ]
  },
  {
   "cell_type": "code",
   "execution_count": 16,
   "metadata": {
    "collapsed": false,
    "scrolled": true
   },
   "outputs": [
    {
     "name": "stdout",
     "output_type": "stream",
     "text": [
      "Billy Bill is a Friends of Jacob Johnson\n",
      "Billy Bill is a Friends of Andrew Smith\n",
      "Jacob Johnson is a Follower of Iron Man Fan Page\n",
      "Jacob Johnson is a Follower of Captain America Fan Page\n",
      "Andrew Smith is a Follower of Captain America Fan Page\n"
     ]
    }
   ],
   "source": [
    "// Type your code here\n",
    "for (triplet <- facebook.triplets.collect) {\n",
    "    print(triplet.srcAttr._1)\n",
    "    print(\" is a \")\n",
    "    print(triplet.attr)\n",
    "    print(\" of \")\n",
    "    println(triplet.dstAttr._1)\n",
    "}"
   ]
  },
  {
   "cell_type": "markdown",
   "metadata": {},
   "source": [
    "The view looks great! It is important to know how to create a view because GraphX does not have any visualization built-in, it is mainly a parallel graph processing library. There are alternatives such as Graphlab and Gephi, but we won't be looking into these in this course.\n",
    "\n",
    "So the only issue we have is that the relation \"Friends\" and \"Follower\" is different. One is plural, and one is singular. So when we print the view, one set will be correct while the other set will be grammatically incorrect. \n",
    "\n",
    "You may have noticed that the visualization is correct, but not the actual graph. That is not a mistake - the visualization is what we want it to be, but it was left there as we want to change this error by learning how to! \n",
    "\n",
    "We will want to change this in the Graph to make \"Friends\" singular to \"Friend\". We will be exploring how to do this in the next lab, so starting thinking!"
   ]
  },
  {
   "cell_type": "markdown",
   "metadata": {},
   "source": [
    "Now we will take a look at an important algorithm in GraphX: pageRank.\n",
    "\n",
    "Pagerank is a algorithm that measures the importance of each vertex by directly correlating it's importance with edges (properties and quantity). There are two options for Pagerank, static and dynamic. Static runs for a fixed number of iterations while dynamic runs until the rank converges.\n",
    "\n",
    "We won't worry too much as we will just introduce the concept. Now, in this case I went ahead and used the pageRank function on our graph, and collected the vertices into a variable called rank. Now go ahead and try to print it out!\n",
    "\n",
    "Note: rank is a collection, so you will need to use a for loop!"
   ]
  },
  {
   "cell_type": "code",
   "execution_count": 17,
   "metadata": {
    "collapsed": true
   },
   "outputs": [
    {
     "data": {
      "text/plain": [
       "rank = Array((1,0.6622516556291391), (2,0.9437086092715232), (3,0.9437086092715232), (4,0.9437086092715232), (5,1.5066225165562912))\n"
      ]
     },
     "metadata": {},
     "output_type": "display_data",
     "source": "user"
    },
    {
     "data": {
      "text/plain": [
       "Array((1,0.6622516556291391), (2,0.9437086092715232), (3,0.9437086092715232), (4,0.9437086092715232), (5,1.5066225165562912))"
      ]
     },
     "execution_count": 17,
     "metadata": {},
     "output_type": "execute_result"
    }
   ],
   "source": [
    "val rank = facebook.pageRank(0.1).vertices.collect"
   ]
  },
  {
   "cell_type": "code",
   "execution_count": 18,
   "metadata": {
    "collapsed": false,
    "scrolled": true
   },
   "outputs": [
    {
     "name": "stdout",
     "output_type": "stream",
     "text": [
      "(1,0.6622516556291391)\n",
      "(2,0.9437086092715232)\n",
      "(3,0.9437086092715232)\n",
      "(4,0.9437086092715232)\n",
      "(5,1.5066225165562912)\n"
     ]
    }
   ],
   "source": [
    "// Type your code here\n",
    "for (rankee <- rank) {\n",
    "    println(rankee)\n",
    "}"
   ]
  },
  {
   "cell_type": "markdown",
   "metadata": {},
   "source": [
    "Alright! So what do these numbers mean? The first part is the ID of the vertex, and the second value is their rank determined by pageRank. The higher the number, the higher the rank. So it looks like ID = 5 (\"Iron Man Fan Page\") is the most important, which makes sense because it has two followers (the most). \n",
    "\n",
    "So this is just an introduction to pageRank, so if you would like to dive more into it, feel free to take a look at this documentation! http://spark.apache.org/docs/latest/graphx-programming-guide.html#pagerank\n",
    "\n",
    "That's it for this lab, in the next exercise we will be taking a look at modifying the graph and how GraphX does it with RDDs which are immutable!"
   ]
  }
 ],
 "metadata": {
  "kernelspec": {
   "display_name": "Apache Toree - Scala",
   "language": "scala",
   "name": "apache_toree_scala"
  },
  "language_info": {
   "codemirror_mode": "text/x-scala",
   "file_extension": ".scala",
   "mimetype": "text/x-scala",
   "name": "scala",
   "pygments_lexer": "scala",
   "version": "2.11.12"
  },
  "widgets": {
   "state": {},
   "version": "1.1.2"
  }
 },
 "nbformat": 4,
 "nbformat_minor": 2
}
